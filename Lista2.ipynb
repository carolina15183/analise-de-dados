{
  "nbformat": 4,
  "nbformat_minor": 0,
  "metadata": {
    "colab": {
      "name": "Lista2.ipynb",
      "provenance": [],
      "collapsed_sections": []
    },
    "kernelspec": {
      "name": "python3",
      "display_name": "Python 3"
    }
  },
  "cells": [
    {
      "cell_type": "code",
      "metadata": {
        "id": "oy_ZaDOQ0SQJ",
        "colab_type": "code",
        "outputId": "09923634-3f99-4860-f5a8-bed22cc658e8",
        "colab": {
          "base_uri": "https://localhost:8080/",
          "height": 68
        }
      },
      "source": [
        "\n",
        "trlab = float(input(\"Trabalho em Laboratorio: \"))\n",
        "avsem = float(input(\" Avaliação Semestral: \"))\n",
        "exafinal = float(input(\"Digite a nota do Exame Final: \"))\n",
        "media = ((trlab*2) + (avsem*3) + (exafinal*5)) / (2+3+5)\n",
        "if ((media <= 10.0) and (media >= 8.0)):\n",
        "  print(\"Conceito A\")\n",
        "elif ((media < 9.0) and (media >= 8.0)):\n",
        "  print(\"Conceito B\")\n",
        "elif ((media < 5.0) and (media >= 6.0)):\n",
        "  print(\"Conceito C\")\n",
        "elif ((media < 7.0) and (media >= 6.0)):\n",
        "  print(\"Conceito D\")\n",
        "elif ((media < 6.0) and (media >= 0.0)):\n",
        "  print(\"Conceito E\")"
      ],
      "execution_count": 1,
      "outputs": [
        {
          "output_type": "stream",
          "text": [
            "Trabalho em Laboratorio: 10\n",
            " Avaliação Semestral: 9\n",
            "Digite a nota do Exame Final: 5\n"
          ],
          "name": "stdout"
        }
      ]
    },
    {
      "cell_type": "code",
      "metadata": {
        "id": "VRx0_GQN4X2K",
        "colab_type": "code",
        "outputId": "5dc3d618-86a4-4955-8437-852f83fd0d42",
        "colab": {
          "base_uri": "https://localhost:8080/",
          "height": 68
        }
      },
      "source": [
        "nota1 = float(input(\"Digite a primeira : \"))\n",
        "nota2 = float(input(\"Digite a segunda : \"))\n",
        "nota3 = float(input(\"Digite a terceira : \"))\n",
        "soma = (nota1+nota2+nota3)/3\n",
        "if ((media <= 10.0) and (media >= 9.0)):\n",
        "  print(\"Aprovado\")\n",
        "elif ((media < 7.0) and (media >= 5.0)):\n",
        "  print(\"Exame Especial\")\n",
        "elif ((media < 3.0) and (media >= 1.5)):\n",
        "  print(\"Reprovado\")"
      ],
      "execution_count": 2,
      "outputs": [
        {
          "output_type": "stream",
          "text": [
            "Digite a primeira : 9\n",
            "Digite a segunda : 5\n",
            "Digite a terceira : 1.5\n"
          ],
          "name": "stdout"
        }
      ]
    },
    {
      "cell_type": "code",
      "metadata": {
        "id": "vwLA3-SR5IXL",
        "colab_type": "code",
        "outputId": "7c6cf666-c97e-4af2-cbcc-5659e9555862",
        "colab": {
          "base_uri": "https://localhost:8080/",
          "height": 68
        }
      },
      "source": [
        "maiorvalor = -72000\n",
        "for i in range(0,2):\n",
        "    x = int(input(\"insira o valor: \"))\n",
        "    if(x>maiorvalor):\n",
        "            maiorvalor = x\n",
        "print(\"O maior numero é: \" + str(maiorvalor))"
      ],
      "execution_count": 3,
      "outputs": [
        {
          "output_type": "stream",
          "text": [
            "insira o valor: 5\n",
            "insira o valor: 3\n",
            "O maior numero é: 5\n"
          ],
          "name": "stdout"
        }
      ]
    },
    {
      "cell_type": "code",
      "metadata": {
        "id": "CVNyNkwu5gz0",
        "colab_type": "code",
        "outputId": "872bdab3-2b64-4e89-eb61-d5d789692fa7",
        "colab": {
          "base_uri": "https://localhost:8080/",
          "height": 51
        }
      },
      "source": [
        "num1 = int(input(\"insira um numero inteiro: \"))\n",
        "resto = num1%2\n",
        "if (resto == 0):\n",
        "  print(\" par\")\n",
        "else :\n",
        "  print(\" impar\")\n"
      ],
      "execution_count": 4,
      "outputs": [
        {
          "output_type": "stream",
          "text": [
            "insira um numero inteiro: 4\n",
            " par\n"
          ],
          "name": "stdout"
        }
      ]
    },
    {
      "cell_type": "code",
      "metadata": {
        "id": "-MrSOQkcKhQs",
        "colab_type": "code",
        "outputId": "7b2b0d2d-0467-4f96-cb46-3a9b505c1ef3",
        "colab": {
          "base_uri": "https://localhost:8080/",
          "height": 119
        }
      },
      "source": [
        "import math\n",
        "op = int(input(\"Menu de opções:\\n\\n1. Somar dois números.\\n2. Raiz quadrada de um número.\\n\\nDigite a opção desejada:\"))\n",
        "if(op==1):\n",
        "  num1 = int(input(\"insira o primeiro numero: \"))\n",
        "  num2 = int(input(\"insira o segundo numero:\"))\n",
        "  print(\"A soma dos 2 numeros é: \" + str(num1+num2))\n",
        "elif(op==2):\n",
        "  num1 = int(input(\"Digite o numero: \"))\n",
        "  print(\"A raiz quadrada dos 2 numeros é: \" + str(math.sqrt(num1)))"
      ],
      "execution_count": 5,
      "outputs": [
        {
          "output_type": "stream",
          "text": [
            "Menu de opções:\n",
            "\n",
            "1. Somar dois números.\n",
            "2. Raiz quadrada de um número.\n",
            "\n",
            "Digite a opção desejada:6\n"
          ],
          "name": "stdout"
        }
      ]
    },
    {
      "cell_type": "code",
      "metadata": {
        "id": "khaIbKyKMBcc",
        "colab_type": "code",
        "outputId": "38f9c27b-1fcf-45b3-f6d3-394f0c8b0f67",
        "colab": {
          "base_uri": "https://localhost:8080/",
          "height": 187
        }
      },
      "source": [
        "op = int(input(\"Codigo : \\n\\n1.Escrituario\\n2. Secretario\\n3. Caixa\\n4. Gerente\\n5. Diretor\\n\\nDigite a opção desejada: \"))\n",
        "if (op == 1):\n",
        "  salario = float(input(\"Digite o salario: \"))\n",
        "  print(\"Escrituario: \\nSalario Atual: \"+ str(salario) + \"\\nNovo Salario: \" + str(salario+(salario*0.5)))\n",
        "elif (op == 2):\n",
        "  salario = float(input(\"Digite o salario: \"))\n",
        "  print(\"Secretario: \\nSalario Atual: \"+ str(salario) + \"\\nNovo Salario: \" + str(salario+(salario*0.35)))\n",
        "elif (op == 3):\n",
        "  salario = float(input(\"Digite o salario: \"))\n",
        "  print(\"Caixa: \\nSalario Atual: \"+ str(salario) + \"\\nNovo Salario: \" + str(salario+(salario*0.2)))\n",
        "elif (op == 4):\n",
        "  salario = float(input(\"Digite o salario: \"))\n",
        "  print(\"Gerente: \\nSalario Atual: \"+ str(salario) + \"\\nNovo Salario: \" + str(salario+(salario*0.1)))\n",
        "elif (op == 5):\n",
        "  salario = float(input(\"Digite o salario: \"))\n",
        "  print(\"este funcionario nao possui aumento\\nO salario é: \" + str(salario))\n",
        "else:\n",
        "  print(\"Invalida\")"
      ],
      "execution_count": 6,
      "outputs": [
        {
          "output_type": "stream",
          "text": [
            "Codigo : \n",
            "\n",
            "1.Escrituario\n",
            "2. Secretario\n",
            "3. Caixa\n",
            "4. Gerente\n",
            "5. Diretor\n",
            "\n",
            "Digite a opção desejada: 10\n",
            "Opção Invalida\n"
          ],
          "name": "stdout"
        }
      ]
    },
    {
      "cell_type": "code",
      "metadata": {
        "id": "puSg_5mxPJax",
        "colab_type": "code",
        "outputId": "ef1e1f7b-91d1-4416-acd4-c2d8e20af817",
        "colab": {
          "base_uri": "https://localhost:8080/",
          "height": 51
        }
      },
      "source": [
        "salario = float(input(\"Digite o salario:   \"))\n",
        "if(salario <= 900):\n",
        "  print(\"Novo salario: \" + str((salario + (salario*0.05))+160))\n",
        "elif(salario > 500.00) and (salario <= 1200.00):\n",
        "  if(salario <= 600):\n",
        "    print(\"Novo salario: \" + str((salario + (salario*0.13))+160))\n",
        "  else:\n",
        "    print(\"Novo salario: \" + str((salario + (salario*0.12))+100))\n",
        "elif (salario > 1539.00):\n",
        "  print(\"Novo salario: \" + str(salario + 205))\n"
      ],
      "execution_count": 12,
      "outputs": [
        {
          "output_type": "stream",
          "text": [
            "Digite o salario:   900\n",
            "Novo salario: 1105.0\n"
          ],
          "name": "stdout"
        }
      ]
    },
    {
      "cell_type": "code",
      "metadata": {
        "id": "jrFPausxbPap",
        "colab_type": "code",
        "outputId": "62cebfba-c88c-4f41-ec41-891a4bc1eda9",
        "colab": {
          "base_uri": "https://localhost:8080/",
          "height": 68
        }
      },
      "source": [
        "vm = float(input(\"Digite o valor da venda mensal do produto: \"))\n",
        "precoa = float(input(\"Digite o valoro: \"))\n",
        "if(vm < 900.00) and (precoa <25.00):\n",
        "  print(\"O novo preço do produto é: \" + str(precoa+(precoa*0.1)))\n",
        "elif ((vm >= 900.00) and (vm < 1200.00)) and ((precoa >= 25.00) and (precoa < 70.00)):\n",
        "  print(\"O novo preço do produto é: \" + str(precoa+(precoa*0.15)))\n",
        "elif(vm >= 1200.00) and (precoa >= 70.00):\n",
        "  print(\"O novo preço do produto é: \" + str(precoa-(precoa*0.2)))"
      ],
      "execution_count": 13,
      "outputs": [
        {
          "output_type": "stream",
          "text": [
            "Digite o valor da venda mensal do produto: 900\n",
            "Digite o valor do produto: 25\n",
            "O novo preço do produto é: 28.75\n"
          ],
          "name": "stdout"
        }
      ]
    },
    {
      "cell_type": "code",
      "metadata": {
        "id": "5bdhBMSwgnGk",
        "colab_type": "code",
        "outputId": "6a3bc6ed-2b70-4e28-95cd-cf4f1d0ad502",
        "colab": {
          "base_uri": "https://localhost:8080/",
          "height": 85
        }
      },
      "source": [
        "Equação do segundo grau"
      ],
      "execution_count": 0,
      "outputs": [
        {
          "output_type": "stream",
          "text": [
            "Digite o lado A do triangulo: 6\n",
            "Digite o lado B do triangulo: 5\n",
            "Digite o lado C do triangulo: 4\n",
            "Triangulo Escaleno\n"
          ],
          "name": "stdout"
        }
      ]
    },
    {
      "cell_type": "code",
      "metadata": {
        "id": "TBAX6l_HpPSf",
        "colab_type": "code",
        "outputId": "28e01518-ed5e-4984-efd0-927355210f03",
        "colab": {
          "base_uri": "https://localhost:8080/",
          "height": 85
        }
      },
      "source": [
        "a = float(input(\"Digite o lado A: \"))\n",
        "b = float(input(\"Digite o lado B: \"))\n",
        "c = float(input(\"Digite o lado C: \"))\n",
        "if ((a< b+c)and(b< a+c)and(c< b+a))and((a> b-c)and(b> a-c)and(c> b-a)):\n",
        "  if((a == b) and (a == c) and (b == c)):\n",
        "    print(\"Triangulo Equilatero\")\n",
        "  elif((a == b) and (a == c)) or ((a == b) and (b == c)):\n",
        "    print(\"Triangulo Isosceles\")\n",
        "  elif ((a != b) and (a != c) and (b != c)):\n",
        "    print(\"Triangulo\")\n",
        "else:\n",
        "  print(\"As medidas informadas não formam um triangulo\")"
      ],
      "execution_count": 15,
      "outputs": [
        {
          "output_type": "stream",
          "text": [
            "Digite o lado A: 12\n",
            "Digite o lado B: 25\n",
            "Digite o lado C: 3\n",
            "As medidas informadas não formam um triangulo\n"
          ],
          "name": "stdout"
        }
      ]
    },
    {
      "cell_type": "code",
      "metadata": {
        "id": "EiblRVWUWB9s",
        "colab_type": "code",
        "outputId": "08519636-b414-461b-f8ee-e462522fa863",
        "colab": {
          "base_uri": "https://localhost:8080/",
          "height": 68
        }
      },
      "source": [
        "altura = float(input(\"insira a altura: \"))\n",
        "peso = float(input(\"insira o peso: \"))\n",
        "if(altura < 1.2):\n",
        "  if(peso<=60):\n",
        "    print(\"Classificação: A\")\n",
        "  elif ((peso>60)and(peso<=90)):\n",
        "    print(\"Classificação: D\")\n",
        "  elif (peso>60):\n",
        "    print(\"Classificação: G\")\n",
        "elif((altura>1.20)and(altura<=1.70)):\n",
        "  if(peso<=60):\n",
        "    print(\"Classificação: B\")\n",
        "  elif ((peso>60)and(peso<=90)):\n",
        "    print(\"Classificação: E\")\n",
        "  elif (peso>90):\n",
        "    print(\"Classificação: H\")\n",
        "elif(altura>1.70):\n",
        "  if(peso>=60):\n",
        "    print(\"Classificação: C\")\n",
        "  elif ((peso>60)and(peso<=90)):\n",
        "    print(\"Classificação: F\")\n",
        "  elif (peso>90):\n",
        "    print(\"Classificação: I\")"
      ],
      "execution_count": 17,
      "outputs": [
        {
          "output_type": "stream",
          "text": [
            "insira a altura: 1.60\n",
            "insira o peso: 60\n",
            "Classificação: B\n"
          ],
          "name": "stdout"
        }
      ]
    },
    {
      "cell_type": "code",
      "metadata": {
        "id": "L8d7OIhQYY22",
        "colab_type": "code",
        "colab": {
          "base_uri": "https://localhost:8080/",
          "height": 68
        },
        "outputId": "05de628a-f71b-4aad-996f-06c98fcf9bf0"
      },
      "source": [
        "codprod = int(input(\"Digite o codigo (0 à 10): \"))\n",
        "peso = int(input(\"insira o peso em Kg: \"))\n",
        "codpais = int(input(\"Digite o codigo do pais de origem (1 à 8): \"))\n"
      ],
      "execution_count": 19,
      "outputs": [
        {
          "output_type": "stream",
          "text": [
            "Digite o codigo (0 à 10): 5\n",
            "insira o peso em Kg: 80\n",
            "Digite o codigo do pais de origem (1 à 8): 4\n"
          ],
          "name": "stdout"
        }
      ]
    },
    {
      "cell_type": "code",
      "metadata": {
        "id": "mEu9SVqounRw",
        "colab_type": "code",
        "outputId": "c7416c53-f756-4cd1-97f3-552e0fd46580",
        "colab": {
          "base_uri": "https://localhost:8080/",
          "height": 238
        }
      },
      "source": [
        "import math\n",
        "print(\"Número | Quadrado | Cubo\")\n",
        "n = 10\n",
        "for (i) in range(n):\n",
        "    print(str(i+1) + \"           \" + str((i+1)**2) + \"       \" + str((i+1)**3))\n",
        "print(\"\\n\")"
      ],
      "execution_count": 0,
      "outputs": [
        {
          "output_type": "stream",
          "text": [
            "Número | Quadrado | Cubo\n",
            "1           1       1\n",
            "2           4       8\n",
            "3           9       27\n",
            "4           16       64\n",
            "5           25       125\n",
            "6           36       216\n",
            "7           49       343\n",
            "8           64       512\n",
            "9           81       729\n",
            "10           100       1000\n",
            "\n",
            "\n"
          ],
          "name": "stdout"
        }
      ]
    },
    {
      "cell_type": "code",
      "metadata": {
        "id": "bC3xKGF5Fni8",
        "colab_type": "code",
        "outputId": "cd972359-7094-415e-a36d-af16fd87b149",
        "colab": {
          "base_uri": "https://localhost:8080/",
          "height": 282
        }
      },
      "source": [
        "\n",
        "sair = \"z\"\n",
        "contM = 0\n",
        "contF = 0\n",
        "contvi = 0\n",
        "total = 0\n",
        "while (sair != \"S\") and (sair != \"s\"):\n",
        "  sexo = input(\"Digite o Sexo da criança  (M / F): \")\n",
        "  vida = int(input(\"Digite o tempo de vida da criança: \"))\n",
        "  sair = input(\"Deseja sair? (S/N): \")\n",
        "  if (sexo == \"M\") or (sexo == \"m\"):\n",
        "    contM = contM + 1\n",
        "  elif (sexo == \"M\") or (sexo == \"m\"):\n",
        "    contF = contF + 1\n",
        "  if vida <= 24:\n",
        "    contvi19 = contv19i + 1\n",
        "  total = total + 1\n",
        "print(\"Porcentagem de crianças do sexo Masculino: \" + str((contM/total)*100) + \"%\")\n",
        "print(\"Porcentagem de crianças do sexo Feminino: \" + str((contF/total)*100) + \"%\")\n",
        "print(\"Porcentagem de crianças que viveram 24 meses ou menos: \" + str((contvi/total)*100) + \"%\")"
      ],
      "execution_count": 21,
      "outputs": [
        {
          "output_type": "stream",
          "text": [
            "Digite o Sexo da criança  (M / F): M\n",
            "Digite o tempo de vida da criança: 2\n",
            "Deseja sair? (S/N): n\n"
          ],
          "name": "stdout"
        },
        {
          "output_type": "error",
          "ename": "NameError",
          "evalue": "ignored",
          "traceback": [
            "\u001b[0;31m---------------------------------------------------------------------------\u001b[0m",
            "\u001b[0;31mNameError\u001b[0m                                 Traceback (most recent call last)",
            "\u001b[0;32m<ipython-input-21-ab7138adc192>\u001b[0m in \u001b[0;36m<module>\u001b[0;34m()\u001b[0m\n\u001b[1;32m     14\u001b[0m     \u001b[0mcontF\u001b[0m \u001b[0;34m=\u001b[0m \u001b[0mcontF\u001b[0m \u001b[0;34m+\u001b[0m \u001b[0;36m1\u001b[0m\u001b[0;34m\u001b[0m\u001b[0;34m\u001b[0m\u001b[0m\n\u001b[1;32m     15\u001b[0m   \u001b[0;32mif\u001b[0m \u001b[0mvida\u001b[0m \u001b[0;34m<=\u001b[0m \u001b[0;36m24\u001b[0m\u001b[0;34m:\u001b[0m\u001b[0;34m\u001b[0m\u001b[0;34m\u001b[0m\u001b[0m\n\u001b[0;32m---> 16\u001b[0;31m     \u001b[0mcontvi19\u001b[0m \u001b[0;34m=\u001b[0m \u001b[0mcontv19i\u001b[0m \u001b[0;34m+\u001b[0m \u001b[0;36m1\u001b[0m\u001b[0;34m\u001b[0m\u001b[0;34m\u001b[0m\u001b[0m\n\u001b[0m\u001b[1;32m     17\u001b[0m   \u001b[0mtotal\u001b[0m \u001b[0;34m=\u001b[0m \u001b[0mtotal\u001b[0m \u001b[0;34m+\u001b[0m \u001b[0;36m1\u001b[0m\u001b[0;34m\u001b[0m\u001b[0;34m\u001b[0m\u001b[0m\n\u001b[1;32m     18\u001b[0m \u001b[0mprint\u001b[0m\u001b[0;34m(\u001b[0m\u001b[0;34m\"Porcentagem de crianças do sexo Masculino: \"\u001b[0m \u001b[0;34m+\u001b[0m \u001b[0mstr\u001b[0m\u001b[0;34m(\u001b[0m\u001b[0;34m(\u001b[0m\u001b[0mcontM\u001b[0m\u001b[0;34m/\u001b[0m\u001b[0mtotal\u001b[0m\u001b[0;34m)\u001b[0m\u001b[0;34m*\u001b[0m\u001b[0;36m100\u001b[0m\u001b[0;34m)\u001b[0m \u001b[0;34m+\u001b[0m \u001b[0;34m\"%\"\u001b[0m\u001b[0;34m)\u001b[0m\u001b[0;34m\u001b[0m\u001b[0;34m\u001b[0m\u001b[0m\n",
            "\u001b[0;31mNameError\u001b[0m: name 'contv19i' is not defined"
          ]
        }
      ]
    },
    {
      "cell_type": "code",
      "metadata": {
        "id": "ZFiE3yEUTBAQ",
        "colab_type": "code",
        "outputId": "b3931c25-ae60-4c29-d391-b559169bd79c",
        "colab": {
          "base_uri": "https://localhost:8080/",
          "height": 209
        }
      },
      "source": [
        "cont = range(6)\n",
        "aprov = 0\n",
        "exame = 0\n",
        "reprov = 0\n",
        "mediacla = 0\n",
        "for i in cont:\n",
        "  nota1 = float(input(\"Digite a primeira \" + str(i+1) + \" :\"))\n",
        "  nota2 = float(input(\"Digite a segunda \" + str(i+1) + \" :\"))\n",
        "  if (nota1+nota2/2) <= 27:\n",
        "    reprov = reprov+1\n",
        "    print(\"Aluno Reprovado\")\n",
        "  elif (nota1+nota2/2) >= 30 and (nota1+nota2/2) <= 69:\n",
        "    exame = exame+1\n",
        "    print(\"Aluno em exame\")\n",
        "  elif (nota1+nota2/2) >= 70:\n",
        "    aprov = aprov+1\n",
        "    print(\"Aluno Aprovado\")\n",
        "  mediacla = nota1 + nota2 + mediacla\n",
        "print(\"Total de Alunos Aprovados: \" + str(aprov))\n",
        "print(\"Total de Alunos em Exame: \" + str(exame))\n",
        "print(\"Media de Alunos Reprovados: \" + str(reprov))\n",
        "print(\"Media da turma: \" + str(mediacla/6))"
      ],
      "execution_count": 0,
      "outputs": [
        {
          "output_type": "stream",
          "text": [
            "Digite a primeira 1 :9\n",
            "Digite a segunda 1 :5\n",
            "Aluno Reprovado\n",
            "Digite a primeira 2 :9\n",
            "Digite a segunda 2 :10\n",
            "Aluno Reprovado\n",
            "Digite a primeira 3 :6\n",
            "Digite a segunda 3 :9\n",
            "Aluno Reprovado\n"
          ],
          "name": "stdout"
        }
      ]
    },
    {
      "cell_type": "code",
      "metadata": {
        "id": "IUX9eMUFYZq3",
        "colab_type": "code",
        "outputId": "4cf4713d-ea16-485e-beb6-0b1e3da55be8",
        "colab": {
          "base_uri": "https://localhost:8080/",
          "height": 90
        }
      },
      "source": [
        "dado = \"invalido\"\n",
        "while dado == \"invalido\": \n",
        "  a = float(input(\"insira o primeiro lado do triangulo\"))\n",
        "  if a>0:\n",
        "    b = float(input(\"insira o segundo lado do triangulo\"))\n",
        "    if b>0:\n",
        "      c = float(input(\"insira o terceiro lado do triangulo\"))\n",
        "      if c>0:\n",
        "        if ((a< b+c)and(b< a+c)and(c< b+a))and((a> b-c)and(b> a-c)and(c> b-a)):\n",
        "          if((a == b) and (a == c) and (b == c)):\n",
        "            print(\"Triangulo Equilatero\")\n",
        "          elif((a == b) and (a == c)) or ((a == b) and (b == c)):\n",
        "            print(\"Triangulo Isosceles\")\n",
        "          elif ((a != b) and (a != c) and (b != c)):\n",
        "            print(\"Triangulo Escaleno\")\n",
        "      print(\"Dados validos porem não formam um triangulo\")\n",
        "      dado = \"valido\"\n",
        "  if dado!=\"valido\":\n",
        "    print(\"Valor Digitado Invalido\\nDigite novamente\")"
      ],
      "execution_count": 0,
      "outputs": [
        {
          "output_type": "stream",
          "text": [
            "Digite o primeiro lado do triangulo1\n",
            "Digite o segundo lado do triangulo2\n",
            "Digite o terceiro lado do triangulo3\n",
            "Dados validos porem não formam um triangulo\n"
          ],
          "name": "stdout"
        }
      ]
    },
    {
      "cell_type": "code",
      "metadata": {
        "id": "x8upo8MqcjQR",
        "colab_type": "code",
        "colab": {}
      },
      "source": [
        ""
      ],
      "execution_count": 0,
      "outputs": []
    }
  ]
}